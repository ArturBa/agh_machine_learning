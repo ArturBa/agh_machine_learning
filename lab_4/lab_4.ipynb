{
 "cells": [
  {
   "cell_type": "markdown",
   "metadata": {},
   "source": [
    "## Ex1"
   ]
  },
  {
   "cell_type": "code",
   "execution_count": 1,
   "metadata": {},
   "outputs": [],
   "source": [
    "# fit the sigmoid curve and calculate decision boundary using given dataset\n",
    "\n",
    "# a cheat sheet:\n",
    "# in an optimization loop\n",
    "# first calculate hypothesis for each datapoint x in X: h = 1 / (1 + exp(-theta0-theta1*x))\n",
    "# then calculate crossentropy: -y*log(h) - (1-y)*log(1-h)\n",
    "# and cost: sum(crossentropy) / len(x)\n",
    "# next calculate derivatives for theta 0 and theta1 (similar to those in linear regression)\n",
    "# theta0_deriv = sum(h - y) / len(y), theta1_deriv = sum((h-y)*X)\n",
    "# and then update theta weights\n",
    "# theta = theta - lr*theta_deriv\n",
    "\n",
    "# check if cost is getting lower through iterations\n",
    "# if not, try to modify the learning rate\n",
    "\n",
    "# calculating decision boundary might look like this:\n",
    "# theta[0] + theta[1]*x = 0\n",
    "# theta[1]*x = -theta[0]\n",
    "# x = -theta[0]/theta[1]\n",
    "\n",
    "# the result might look like below\n",
    "\n",
    "from matplotlib import pyplot as plt\n",
    "import numpy as np\n",
    "\n",
    "X = np.array([1, 2, 3, 4, 5, 6, 7, 8, 9, 15, 25], dtype=np.float32)\n",
    "y = np.array([0, 0, 0, 0, 0, 0, 1, 1, 1,  1,  1], dtype=np.float32)\n",
    "\n",
    "theta = np.array([0, 0], dtype=np.float32)\n",
    "\n",
    "# optimization loop"
   ]
  },
  {
   "cell_type": "code",
   "execution_count": 2,
   "metadata": {},
   "outputs": [],
   "source": [
    "max_iter = 10000\n",
    "eps = 0.00001\n",
    "alpha = 0.05\n",
    "prev_cost = 99\n",
    "\n",
    "\n",
    "for i in range(max_iter):\n",
    "    h_x = 1/(1 + np.exp(-theta[0] - theta[1]*X))\n",
    "\n",
    "    crossentropy = -y*np.log(h_x+0.00001) - (1-y)*np.log(1-h_x+0.00001)\n",
    "    cost = np.sum(crossentropy) / X.shape[0]\n",
    "\n",
    "    theta_deriv = np.array([sum(h_x-y)/len(y), sum((h_x-y)*X)], dtype=np.float32)\n",
    "    theta = theta - alpha*theta_deriv\n",
    "\n",
    "    if np.abs(prev_cost - cost) < eps:\n",
    "        break\n",
    "\n",
    "    prev_cost = cost"
   ]
  },
  {
   "cell_type": "code",
   "execution_count": 3,
   "metadata": {},
   "outputs": [
    {
     "data": {
      "text/plain": [
       "array([-6.1057777,  0.9486568], dtype=float32)"
      ]
     },
     "execution_count": 3,
     "metadata": {},
     "output_type": "execute_result"
    }
   ],
   "source": [
    "theta"
   ]
  },
  {
   "cell_type": "code",
   "execution_count": 4,
   "metadata": {},
   "outputs": [
    {
     "data": {
      "text/plain": [
       "6.4362345"
      ]
     },
     "execution_count": 4,
     "metadata": {},
     "output_type": "execute_result"
    }
   ],
   "source": [
    "border = -theta[0]/theta[1]\n",
    "border"
   ]
  },
  {
   "cell_type": "code",
   "execution_count": 5,
   "metadata": {},
   "outputs": [
    {
     "data": {
      "image/png": "[encoded data removed]",
      "text/plain": [
       "<Figure size 432x288 with 1 Axes>"
      ]
     },
     "metadata": {
      "needs_background": "light"
     },
     "output_type": "display_data"
    }
   ],
   "source": [
    "x_sim = np.linspace(1, 25)\n",
    "y_sim = 1.0 / (1 + np.exp(-theta[0] - theta[1]*x_sim))\n",
    "plt.scatter(X, y)\n",
    "plt.axvline(border, c='r')\n",
    "plt.plot(x_sim, y_sim, c='g')\n",
    "plt.show()"
   ]
  },
  {
   "cell_type": "markdown",
   "metadata": {},
   "source": [
    "## Ex2"
   ]
  },
  {
   "cell_type": "code",
   "execution_count": 6,
   "metadata": {},
   "outputs": [],
   "source": [
    "# generalize optimization code for X being a matrix, where its rows are features and columns are examples\n",
    "# code should work independently from number of features and number of examples\n",
    "# use matrix multiplication (np.matmul or @)\n",
    "# plot decision boundary on a plot x2(x1)\n",
    "# calculating decision boundary might look like this:\n",
    "# theta0 + theta1*x1 + theta2*x2 = 0\n",
    "# theta2*x2 = -theta0 - theta1*x1\n",
    "# x2 = -theta0/theta2 - theta1/theta2 * x1\n",
    "\n",
    "\n",
    "from matplotlib import pyplot as plt\n",
    "import numpy as np\n",
    "\n",
    "X = np.array([[ 1, 1, 1, 1, 1, 1, 1, 1, 1,  1,  1], # bias' 'variables' already appended to X\n",
    "              [ 1, 2, 3, 4, 5, 6, 7, 8, 9, 15, 25],\n",
    "              [13, 9, 8, 6, 4, 2, 1, 0, 3,  4,  2]], dtype=np.float32)\n",
    "y = np.array([0, 0, 0, 0, 0, 0, 1, 1, 1,  1,  1], dtype=np.float32)\n",
    "\n",
    "theta = np.zeros((X.shape[0], 1))"
   ]
  },
  {
   "cell_type": "code",
   "execution_count": 7,
   "metadata": {},
   "outputs": [],
   "source": [
    "def optimalize_theta_multidim(X, y, theta, iterations=10000, learning_rate=0.5, eps=0.00001):\n",
    "    h = np.zeros(X.shape[1], dtype = np.float32)\n",
    "    crossentropy = np.zeros(X.shape[1], dtype = np.float32)\n",
    "    theta_deriv = np.zeros(theta.shape, dtype = np.float32)\n",
    "    theta_res = theta\n",
    "    cost = np.zeros(iterations)\n",
    "    prev_cost = 99\n",
    "    for it in range(iterations):\n",
    "        h = 1 / (1 + np.exp(-theta_res.T @ X))\n",
    "        crossentropy = -y * np.log(h + eps) - (1-y) * np.log(1 - h + eps)\n",
    "        cost[it] = np.sum(crossentropy) / X.shape[1]\n",
    "           \n",
    "        for i in range(X.shape[0]):\n",
    "            theta_deriv[i] = np.sum((h-y) @ X[i,:].T) / X.shape[1]\n",
    "        theta_res = theta_res - learning_rate * theta_deriv\n",
    "        if np.abs(prev_cost - cost[it]) < eps:\n",
    "            break\n",
    "        prev_cost = cost[it]\n",
    "    return theta_res"
   ]
  },
  {
   "cell_type": "code",
   "execution_count": 8,
   "metadata": {},
   "outputs": [
    {
     "data": {
      "text/plain": [
       "array([[-9.67397691],\n",
       "       [ 2.61064441],\n",
       "       [-3.8567877 ]])"
      ]
     },
     "execution_count": 8,
     "metadata": {},
     "output_type": "execute_result"
    }
   ],
   "source": [
    "theta_result = optimalize_theta_multidim(X, y, theta)\n",
    "theta_result"
   ]
  },
  {
   "cell_type": "code",
   "execution_count": 9,
   "metadata": {},
   "outputs": [],
   "source": [
    "x1 = np.linspace(np.min(X[1, :]), np.max(X[1, :]), 100)\n",
    "x2 = -theta_result[0, 0]/theta_result[2, 0] - theta_result[1, 0]/theta_result[2, 0] * x1"
   ]
  },
  {
   "cell_type": "code",
   "execution_count": 10,
   "metadata": {},
   "outputs": [],
   "source": [
    "X_positive = X[:, y[:] == 1]\n",
    "X_negative = X[:, y[:] == 0]"
   ]
  },
  {
   "cell_type": "code",
   "execution_count": 11,
   "metadata": {},
   "outputs": [
    {
     "data": {
      "text/plain": [
       "[<matplotlib.lines.Line2D at 0x7f858be23fd0>]"
      ]
     },
     "execution_count": 11,
     "metadata": {},
     "output_type": "execute_result"
    },
    {
     "data": {
      "image/png": "[encoded data removed]",
      "text/plain": [
       "<Figure size 432x288 with 1 Axes>"
      ]
     },
     "metadata": {
      "needs_background": "light"
     },
     "output_type": "display_data"
    }
   ],
   "source": [
    "plt.plot(X_positive[2, :], X_positive[1, :], '+')\n",
    "plt.plot(X_negative[2, :], X_negative[1, :], 'o')\n",
    "plt.plot(x2, x1, '-')"
   ]
  },
  {
   "cell_type": "markdown",
   "metadata": {},
   "source": [
    "## Ex3"
   ]
  },
  {
   "cell_type": "code",
   "execution_count": 12,
   "metadata": {},
   "outputs": [],
   "source": [
    "# using real data, optimize classifier to predict given values\n",
    "\n",
    "# split dataset into a training set and a test set\n",
    "# train model on the training set\n",
    "# calculate TP, FP, TN, FN on test set\n",
    "# calculate sensitivity, specificity, positive predictivity and negative predictivity\n",
    "\n",
    "\n",
    "from matplotlib import pyplot as plt\n",
    "import numpy as np\n",
    "import pandas as pd\n",
    "\n",
    "data = pd.read_csv('./data.txt')"
   ]
  },
  {
   "cell_type": "code",
   "execution_count": 13,
   "metadata": {},
   "outputs": [],
   "source": [
    "# insert one on beggining of dataset \n",
    "data.insert(loc=0, column='', value=1)\n",
    "data = data.values"
   ]
  },
  {
   "cell_type": "code",
   "execution_count": 14,
   "metadata": {},
   "outputs": [],
   "source": [
    "# normalize data\n",
    "data[:, 1] = (data[:, 1] - np.std(data[:, 1])) / np.mean(data[:, 1])\n",
    "data[:, 2] = (data[:, 2] - np.std(data[:, 2])) / np.mean(data[:, 2])"
   ]
  },
  {
   "cell_type": "code",
   "execution_count": 15,
   "metadata": {},
   "outputs": [],
   "source": [
    "# split for labels and features\n",
    "X = data[:, [0, 1, 2]]\n",
    "y = data[:, 3]"
   ]
  },
  {
   "cell_type": "code",
   "execution_count": 16,
   "metadata": {},
   "outputs": [],
   "source": [
    "from sklearn.model_selection import train_test_split\n",
    "from sklearn.metrics import accuracy_score, recall_score, precision_score"
   ]
  },
  {
   "cell_type": "code",
   "execution_count": 17,
   "metadata": {},
   "outputs": [],
   "source": [
    "# split data\n",
    "X_train, X_test, y_train, y_test = train_test_split(X, y, test_size=.4)"
   ]
  },
  {
   "cell_type": "code",
   "execution_count": 18,
   "metadata": {},
   "outputs": [],
   "source": [
    "# Transform all data\n",
    "X_train = X_train.T\n",
    "X_test = X_test.T\n",
    "y_train = y_train.T\n",
    "y_test = y_test.T"
   ]
  },
  {
   "cell_type": "code",
   "execution_count": 19,
   "metadata": {},
   "outputs": [],
   "source": [
    "# Optimalize theta\n",
    "theta = np.zeros(X_train.shape[0], dtype=np.float32)\n",
    "theta_res = optimalize_theta_multidim(X_train, y_train, theta, learning_rate=0.1)"
   ]
  },
  {
   "cell_type": "code",
   "execution_count": 20,
   "metadata": {},
   "outputs": [
    {
     "data": {
      "text/plain": [
       "array([-8.299828 ,  6.304302 ,  6.5650043], dtype=float32)"
      ]
     },
     "execution_count": 20,
     "metadata": {},
     "output_type": "execute_result"
    }
   ],
   "source": [
    "theta_res"
   ]
  },
  {
   "cell_type": "code",
   "execution_count": 21,
   "metadata": {},
   "outputs": [],
   "source": [
    "def calculate_positeve_negative(y_test, y_pred):\n",
    "    TP = np.sum(np.logical_and(y_test == 1, y_pred == 1))\n",
    "    TN = np.sum(np.logical_and(y_test == 0, y_pred == 0))\n",
    "    FP = np.sum(np.logical_and(y_test == 0, y_pred == 1))\n",
    "    FN = np.sum(np.logical_and(y_test == 1, y_pred == 0))\n",
    "    \n",
    "    return (TP, TN, FP, FN)"
   ]
  },
  {
   "cell_type": "code",
   "execution_count": 22,
   "metadata": {},
   "outputs": [],
   "source": [
    "y_pred = 1 / np.exp(-theta_res.T @ X_test)\n",
    "y_pred = np.where(y_pred > 0.5, 1, 0)\n",
    "y_pred = np.squeeze(y_pred)"
   ]
  },
  {
   "cell_type": "code",
   "execution_count": 23,
   "metadata": {},
   "outputs": [
    {
     "name": "stdout",
     "output_type": "stream",
     "text": [
      "TN: 11, TP: 26, FP: 3, FN: 0\n"
     ]
    }
   ],
   "source": [
    "TP, TN, FP, FN = calculate_positeve_negative(y_test, y_pred)\n",
    "print(f'TN: {TN}, TP: {TP}, FP: {FP}, FN: {FN}')"
   ]
  },
  {
   "cell_type": "code",
   "execution_count": 24,
   "metadata": {},
   "outputs": [
    {
     "data": {
      "text/plain": [
       "0.7857142857142857"
      ]
     },
     "execution_count": 24,
     "metadata": {},
     "output_type": "execute_result"
    }
   ],
   "source": [
    "# specifity\n",
    "TN / (TN + FP)"
   ]
  },
  {
   "cell_type": "code",
   "execution_count": 25,
   "metadata": {},
   "outputs": [
    {
     "data": {
      "text/plain": [
       "1.0"
      ]
     },
     "execution_count": 25,
     "metadata": {},
     "output_type": "execute_result"
    }
   ],
   "source": [
    "# sensifity\n",
    "recall_score(y_test, y_pred)"
   ]
  },
  {
   "cell_type": "code",
   "execution_count": 26,
   "metadata": {},
   "outputs": [
    {
     "data": {
      "text/plain": [
       "0.896551724137931"
      ]
     },
     "execution_count": 26,
     "metadata": {},
     "output_type": "execute_result"
    }
   ],
   "source": [
    "# possitive predictivity\n",
    "precision_score(y_test, y_pred)"
   ]
  },
  {
   "cell_type": "code",
   "execution_count": 27,
   "metadata": {},
   "outputs": [],
   "source": [
    "# negatice predictivity"
   ]
  },
  {
   "cell_type": "code",
   "execution_count": 28,
   "metadata": {},
   "outputs": [],
   "source": [
    "x1 = np.linspace(np.min(X[: ,1]), np.max(X[:, 1]), 100)\n",
    "x2 = -(theta_res[0] + theta_res[1] * x1) / theta_res[2]"
   ]
  },
  {
   "cell_type": "code",
   "execution_count": 29,
   "metadata": {},
   "outputs": [],
   "source": [
    "X_positive = X[y[:] == 1]\n",
    "X_negative = X[y[:] == 0]"
   ]
  },
  {
   "cell_type": "code",
   "execution_count": 30,
   "metadata": {},
   "outputs": [
    {
     "data": {
      "text/plain": [
       "[<matplotlib.lines.Line2D at 0x7f8570340ad0>]"
      ]
     },
     "execution_count": 30,
     "metadata": {},
     "output_type": "execute_result"
    },
    {
     "data": {
      "image/png": "[encoded data removed]",
      "text/plain": [
       "<Figure size 432x288 with 1 Axes>"
      ]
     },
     "metadata": {
      "needs_background": "light"
     },
     "output_type": "display_data"
    }
   ],
   "source": [
    "plt.plot(X_positive[:, 2], X_positive[:, 1], '+')\n",
    "plt.plot(X_negative[:, 2], X_negative[:, 1], 'o')\n",
    "plt.plot(x2, x1, '-')"
   ]
  },
  {
   "cell_type": "markdown",
   "metadata": {},
   "source": [
    " ## Ex4"
   ]
  },
  {
   "cell_type": "code",
   "execution_count": 31,
   "metadata": {},
   "outputs": [],
   "source": [
    "# using mnist dataset, optimize classifier to distinguish hand written digits\n",
    "# all vs one classification - train ten classifiers,\n",
    "# each of which will classify specific value against the rest\n",
    "\n",
    "# download train and test data from\n",
    "# http://yann.lecun.com/exdb/mnist/index.html and extract each archive\n",
    "# if previous exercise have been done correctly,\n",
    "# training should boil down only to appropriate data conversion\n",
    "# (set data to X and y)\n",
    "\n",
    "from matplotlib import pyplot as plt\n",
    "import numpy as np\n",
    "\n",
    "\n",
    "def read_data_set(images_path, labels_path, num_images):\n",
    "    image_size = 28\n",
    "    # training set\n",
    "    with open(images_path, 'rb') as f:\n",
    "        f.read(16)\n",
    "        buf = f.read(image_size * image_size * num_images)\n",
    "        data = np.frombuffer(buf, dtype=np.uint8).astype(np.float32)\n",
    "        training_data = data.reshape(num_images, image_size, image_size)\n",
    "    # labels\n",
    "    with open(labels_path, 'rb') as f:\n",
    "        f.read(8)\n",
    "        buf = f.read(num_images)\n",
    "        data = np.frombuffer(buf, dtype=np.uint8).astype(np.float32)\n",
    "        training_labels = data.reshape(num_images)\n",
    "    return training_data, training_labels"
   ]
  },
  {
   "cell_type": "code",
   "execution_count": 32,
   "metadata": {},
   "outputs": [
    {
     "name": "stdout",
     "output_type": "stream",
     "text": [
      "0.0\n"
     ]
    },
    {
     "data": {
      "text/plain": [
       "<matplotlib.image.AxesImage at 0x7f85702a3ed0>"
      ]
     },
     "execution_count": 32,
     "metadata": {},
     "output_type": "execute_result"
    },
    {
     "data": {
      "image/png": "[encoded data removed]",
      "text/plain": [
       "<Figure size 432x288 with 1 Axes>"
      ]
     },
     "metadata": {
      "needs_background": "light"
     },
     "output_type": "display_data"
    }
   ],
   "source": [
    "# how to read mnist https://stackoverflow.com/questions/40427435/extract-images-from-idx3-ubyte-file-or-gzip-via-python\n",
    "training_data, training_labels = read_data_set('./train-images-idx3-ubyte', './train-labels-idx1-ubyte', 60000)\n",
    "training_data = training_data/255.0 # can be normalized to converge faster\n",
    "\n",
    "# check if data have been loaded correctly\n",
    "example_idx = 156\n",
    "print(training_labels[example_idx])\n",
    "plt.imshow(training_data[example_idx])"
   ]
  },
  {
   "cell_type": "code",
   "execution_count": 33,
   "metadata": {},
   "outputs": [],
   "source": [
    "# training data must be vectorized\n",
    "# from [n_examples, height, width] to [n_examples, n_features]\n",
    "training_data.shape = [training_data.shape[0], training_data.shape[1] * training_data.shape[2]]\n",
    "\n",
    "# lets start with '2' vs rest\n",
    "y = np.array(training_labels == 2, dtype=np.float32)\n",
    "X = np.concatenate((np.ones((1, len(y))), training_data.T))\n",
    "\n",
    "theta = np.zeros((X.shape[0], 1))"
   ]
  },
  {
   "cell_type": "code",
   "execution_count": 34,
   "metadata": {},
   "outputs": [],
   "source": [
    "theta_res = optimalize_theta_multidim(X, y, theta, learning_rate=0.1, iterations=10)"
   ]
  },
  {
   "cell_type": "code",
   "execution_count": 35,
   "metadata": {},
   "outputs": [],
   "source": [
    "# now we need to read test set and reshape it similarly to training set\n",
    "test_data, test_labels = read_data_set('./t10k-images-idx3-ubyte', './t10k-labels-idx1-ubyte', 10000)\n",
    "test_data = test_data / 255.0\n",
    "test_data.shape = [test_data.shape[0], test_data.shape[1] * test_data.shape[2]]\n",
    "y = np.array(test_labels == 2, dtype=np.float32)\n",
    "X = np.concatenate((np.ones((1, len(y))), test_data.T))"
   ]
  },
  {
   "cell_type": "code",
   "execution_count": 36,
   "metadata": {},
   "outputs": [],
   "source": [
    "# calculate hypothesis for test data\n",
    "h = 1.0 / (1 + np.exp(-theta.T @ X))\n",
    "y_pred = np.round(h.flatten()) # and classify it"
   ]
  },
  {
   "cell_type": "code",
   "execution_count": 37,
   "metadata": {},
   "outputs": [
    {
     "name": "stdout",
     "output_type": "stream",
     "text": [
      "TN: 980, TP: 0, FP: 0, FN: 1135\n"
     ]
    }
   ],
   "source": [
    "TP, TN, FP, FN = calculate_positeve_negative(test_labels, y_pred)\n",
    "print(f'TN: {TN}, TP: {TP}, FP: {FP}, FN: {FN}')"
   ]
  },
  {
   "cell_type": "code",
   "execution_count": 38,
   "metadata": {},
   "outputs": [
    {
     "name": "stdout",
     "output_type": "stream",
     "text": [
      "se: 0.0, pp: nan\n"
     ]
    },
    {
     "name": "stderr",
     "output_type": "stream",
     "text": [
      "/home/artur/Documents/agh/sem_II/ml/venv/lib/python3.7/site-packages/ipykernel_launcher.py:3: RuntimeWarning: invalid value encountered in long_scalars\n",
      "  This is separate from the ipykernel package so we can avoid doing imports until\n"
     ]
    }
   ],
   "source": [
    "# and the sensitivity and positive predictivity\n",
    "se = TP / (TP+FN)\n",
    "pp = TP / (TP+FP)\n",
    "\n",
    "print('se: {}, pp: {}'.format(se, pp))"
   ]
  },
  {
   "cell_type": "code",
   "execution_count": 39,
   "metadata": {},
   "outputs": [],
   "source": [
    "from sklearn.linear_model import SGDClassifier"
   ]
  },
  {
   "cell_type": "code",
   "execution_count": 40,
   "metadata": {},
   "outputs": [],
   "source": [
    "clf = SGDClassifier(loss=\"hinge\", penalty=\"l2\", max_iter=10)"
   ]
  },
  {
   "cell_type": "code",
   "execution_count": 42,
   "metadata": {},
   "outputs": [
    {
     "name": "stderr",
     "output_type": "stream",
     "text": [
      "/home/artur/Documents/agh/sem_II/ml/venv/lib/python3.7/site-packages/sklearn/linear_model/_stochastic_gradient.py:573: ConvergenceWarning: Maximum number of iteration reached before convergence. Consider increasing max_iter to improve the fit.\n",
      "  ConvergenceWarning)\n"
     ]
    },
    {
     "data": {
      "text/plain": [
       "SGDClassifier(max_iter=10)"
      ]
     },
     "execution_count": 42,
     "metadata": {},
     "output_type": "execute_result"
    }
   ],
   "source": [
    "clf.fit(training_data, training_labels)"
   ]
  },
  {
   "cell_type": "code",
   "execution_count": 43,
   "metadata": {},
   "outputs": [],
   "source": [
    "y_pred = clf.predict(test_data)"
   ]
  },
  {
   "cell_type": "code",
   "execution_count": 45,
   "metadata": {},
   "outputs": [
    {
     "name": "stdout",
     "output_type": "stream",
     "text": [
      "TN: 961, TP: 1116, FP: 0, FN: 0\n"
     ]
    }
   ],
   "source": [
    "TP, TN, FP, FN = calculate_positeve_negative(test_labels, y_pred)\n",
    "print(f'TN: {TN}, TP: {TP}, FP: {FP}, FN: {FN}')"
   ]
  },
  {
   "cell_type": "code",
   "execution_count": 46,
   "metadata": {},
   "outputs": [
    {
     "name": "stdout",
     "output_type": "stream",
     "text": [
      "se: 1.0, pp: 1.0\n"
     ]
    }
   ],
   "source": [
    "# and the sensitivity and positive predictivity\n",
    "se = TP / (TP+FN)\n",
    "pp = TP / (TP+FP)\n",
    "\n",
    "print('se: {}, pp: {}'.format(se, pp))"
   ]
  }
 ],
 "metadata": {
  "kernelspec": {
   "display_name": "Python 3",
   "language": "python",
   "name": "python3"
  },
  "language_info": {
   "codemirror_mode": {
    "name": "ipython",
    "version": 3
   },
   "file_extension": ".py",
   "mimetype": "text/x-python",
   "name": "python",
   "nbconvert_exporter": "python",
   "pygments_lexer": "ipython3",
   "version": "3.7.6"
  }
 },
 "nbformat": 4,
 "nbformat_minor": 4
}
